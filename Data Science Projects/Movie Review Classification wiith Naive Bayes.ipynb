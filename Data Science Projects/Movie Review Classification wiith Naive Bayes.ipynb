{
  "cells": [
    {
      "cell_type": "code",
      "execution_count": 39,
      "metadata": {
        "id": "9p7YvxS8BfVB",
        "outputId": "6de81696-7d4a-4f1a-e65d-96bb17082c82",
        "colab": {
          "base_uri": "https://localhost:8080/"
        }
      },
      "outputs": [
        {
          "output_type": "stream",
          "name": "stdout",
          "text": [
            "/content\n",
            "Cloning into 'Personal_Projects'...\n",
            "remote: Enumerating objects: 130, done.\u001b[K\n",
            "remote: Counting objects: 100% (130/130), done.\u001b[K\n",
            "remote: Compressing objects: 100% (120/120), done.\u001b[K\n",
            "remote: Total 130 (delta 56), reused 10 (delta 2), pack-reused 0\u001b[K\n",
            "Receiving objects: 100% (130/130), 39.51 KiB | 2.82 MiB/s, done.\n",
            "Resolving deltas: 100% (56/56), done.\n"
          ]
        }
      ],
      "source": [
        "%cd /content/\n",
        "!git clone https://github.com/MaxMason42/Personal_Projects.git\n"
      ]
    },
    {
      "cell_type": "code",
      "source": [
        "from Personal_Projects.Classification_Algorithms.Naive_Bayes import naiveBayesClassifier"
      ],
      "metadata": {
        "id": "DVN4l0ubCTF6"
      },
      "execution_count": 42,
      "outputs": []
    },
    {
      "cell_type": "code",
      "source": [],
      "metadata": {
        "id": "5rgqy9GvC0yD"
      },
      "execution_count": null,
      "outputs": []
    },
    {
      "cell_type": "markdown",
      "source": [],
      "metadata": {
        "id": "sLElvc1hCJid"
      }
    }
  ],
  "metadata": {
    "language_info": {
      "name": "python"
    },
    "colab": {
      "provenance": []
    },
    "kernelspec": {
      "name": "python3",
      "display_name": "Python 3"
    }
  },
  "nbformat": 4,
  "nbformat_minor": 0
}