{
 "cells": [
  {
   "cell_type": "markdown",
   "metadata": {},
   "source": [
    "The idea of this notebook is not to exactly predict stock prices, but rather stock fluctuations at a daily level, classifying whether we think a stock will rise or fall. My idea for this is quite simple, since stock prices are inherently driven by investors perception of the company we can use data such as the sentiment from recent articles and trading volume to predict the probability of the stock price increasing the following day.\n",
    "\n",
    "To start we will just use a simple Naive Bayes Classifier to implement the following formula:\n",
    "\n",
    "$Pr(Stock+ | Sent+, Vol+) \\propto Pr(Sent+ | Stock+) \\cdot Pr(Vol+ | Stock+) \\cdot Pr(Stock+)$\n",
    "\n",
    "$Stock+$ is a positive change in stock prices.\n",
    "\n",
    "$Sent+$ is a positive sentiment score. The sentiment will be an average of that days news sentiment \n",
    "(further fine-tuning could be done to weight articles based on how impactful they are)\n",
    "\n",
    "$Vol+$ is an above average trading volume.\n",
    "\n",
    "Then if we get a high probability, say above 60%, then we would decide to invest in the stock for the following day."
   ]
  },
  {
   "cell_type": "code",
   "execution_count": 1,
   "metadata": {},
   "outputs": [],
   "source": [
    "import yfinance as yf\n",
    "import pandas as pd\n",
    "import numpy as np\n",
    "import itertools"
   ]
  },
  {
   "cell_type": "code",
   "execution_count": 3,
   "metadata": {},
   "outputs": [
    {
     "data": {
      "text/html": [
       "<div>\n",
       "<style scoped>\n",
       "    .dataframe tbody tr th:only-of-type {\n",
       "        vertical-align: middle;\n",
       "    }\n",
       "\n",
       "    .dataframe tbody tr th {\n",
       "        vertical-align: top;\n",
       "    }\n",
       "\n",
       "    .dataframe thead th {\n",
       "        text-align: right;\n",
       "    }\n",
       "</style>\n",
       "<table border=\"1\" class=\"dataframe\">\n",
       "  <thead>\n",
       "    <tr style=\"text-align: right;\">\n",
       "      <th></th>\n",
       "      <th>Date</th>\n",
       "      <th>compound</th>\n",
       "    </tr>\n",
       "  </thead>\n",
       "  <tbody>\n",
       "    <tr>\n",
       "      <th>0</th>\n",
       "      <td>2006-12-01</td>\n",
       "      <td>0.7707</td>\n",
       "    </tr>\n",
       "    <tr>\n",
       "      <th>1</th>\n",
       "      <td>2006-12-04</td>\n",
       "      <td>0.8720</td>\n",
       "    </tr>\n",
       "    <tr>\n",
       "      <th>2</th>\n",
       "      <td>2006-12-05</td>\n",
       "      <td>0.0000</td>\n",
       "    </tr>\n",
       "    <tr>\n",
       "      <th>3</th>\n",
       "      <td>2006-12-06</td>\n",
       "      <td>0.6858</td>\n",
       "    </tr>\n",
       "    <tr>\n",
       "      <th>4</th>\n",
       "      <td>2006-12-07</td>\n",
       "      <td>-0.6712</td>\n",
       "    </tr>\n",
       "  </tbody>\n",
       "</table>\n",
       "</div>"
      ],
      "text/plain": [
       "         Date  compound\n",
       "0  2006-12-01    0.7707\n",
       "1  2006-12-04    0.8720\n",
       "2  2006-12-05    0.0000\n",
       "3  2006-12-06    0.6858\n",
       "4  2006-12-07   -0.6712"
      ]
     },
     "execution_count": 3,
     "metadata": {},
     "output_type": "execute_result"
    }
   ],
   "source": [
    "aapl_news = pd.read_csv(\"data\\AppleFinalData.csv\")\n",
    "aapl_news = aapl_news.drop(['Open', 'High', 'Low', 'Close', 'Adj Close', 'neg', 'neu', 'pos'], axis=1)\n",
    "aapl_news.head()"
   ]
  },
  {
   "cell_type": "code",
   "execution_count": 83,
   "metadata": {},
   "outputs": [
    {
     "name": "stdout",
     "output_type": "stream",
     "text": [
      "first observation date: 2006-12-01\n",
      "last observation date: 2016-11-30\n"
     ]
    }
   ],
   "source": [
    "print(\"first observation date:\", min(aapl_news['Date']))\n",
    "print(\"last observation date:\", max(aapl_news['Date']))"
   ]
  },
  {
   "cell_type": "markdown",
   "metadata": {},
   "source": [
    "This dataset was found on Kaggle. It contains the date, pricing information, and sentiment scores from New York Times articles using the NLTK VADER algorithm. For this project we will be using the compound where 1.00 is the most positive and -1.00 is the most negative possible and not using the pricing data because it may not be accurate due to stock splits. Furthermore, I cannot guarantee the accuracy of this data and how this data was collected, this project is more so a proof of concept / test of my idea. If this idea is viable, it would be best to create a language model to perform sentiment classification."
   ]
  },
  {
   "cell_type": "code",
   "execution_count": 84,
   "metadata": {},
   "outputs": [],
   "source": [
    "aapl = yf.Ticker('AAPL')\n",
    "\n",
    "aapl_data = aapl.history(start='2006-12-01', end='2016-12-01')\n",
    "\n",
    "aapl_data.reset_index(inplace=True)\n",
    "\n",
    "aapl_data = aapl_data.drop(['Open', 'High', 'Low', 'Dividends', 'Stock Splits'], axis=1)\n",
    "\n",
    "aapl_data['Date'] = pd.to_datetime(aapl_data['Date']).dt.date"
   ]
  },
  {
   "cell_type": "code",
   "execution_count": 85,
   "metadata": {},
   "outputs": [],
   "source": [
    "aapl_news['Date'] = pd.to_datetime(aapl_news['Date']).dt.date\n",
    "\n",
    "aapl_data = aapl_data.merge(aapl_news, on='Date')\n",
    "\n",
    "aapl_data['Change'] = aapl_data['Close'].diff()\n",
    "\n",
    "aapl_data['Change'] = aapl_data['Change'].apply(lambda x: 1 if x > 0 else 0)\n",
    "\n",
    "aapl_data = aapl_data.drop('Close', axis=1)"
   ]
  },
  {
   "cell_type": "markdown",
   "metadata": {},
   "source": [
    "Where a negative change is labeled as 0 and a positive change is labeled as 1. We will first do a simple 80% train and test split."
   ]
  },
  {
   "cell_type": "code",
   "execution_count": 95,
   "metadata": {},
   "outputs": [
    {
     "data": {
      "text/html": [
       "<div>\n",
       "<style scoped>\n",
       "    .dataframe tbody tr th:only-of-type {\n",
       "        vertical-align: middle;\n",
       "    }\n",
       "\n",
       "    .dataframe tbody tr th {\n",
       "        vertical-align: top;\n",
       "    }\n",
       "\n",
       "    .dataframe thead th {\n",
       "        text-align: right;\n",
       "    }\n",
       "</style>\n",
       "<table border=\"1\" class=\"dataframe\">\n",
       "  <thead>\n",
       "    <tr style=\"text-align: right;\">\n",
       "      <th></th>\n",
       "      <th>Date</th>\n",
       "      <th>Volume</th>\n",
       "      <th>compound</th>\n",
       "      <th>Change</th>\n",
       "    </tr>\n",
       "  </thead>\n",
       "  <tbody>\n",
       "    <tr>\n",
       "      <th>0</th>\n",
       "      <td>2006-12-01</td>\n",
       "      <td>795079600</td>\n",
       "      <td>0.7707</td>\n",
       "      <td>0</td>\n",
       "    </tr>\n",
       "    <tr>\n",
       "      <th>1</th>\n",
       "      <td>2006-12-04</td>\n",
       "      <td>709536800</td>\n",
       "      <td>0.8720</td>\n",
       "      <td>0</td>\n",
       "    </tr>\n",
       "    <tr>\n",
       "      <th>2</th>\n",
       "      <td>2006-12-05</td>\n",
       "      <td>662838400</td>\n",
       "      <td>0.0000</td>\n",
       "      <td>1</td>\n",
       "    </tr>\n",
       "    <tr>\n",
       "      <th>3</th>\n",
       "      <td>2006-12-06</td>\n",
       "      <td>638184400</td>\n",
       "      <td>0.6858</td>\n",
       "      <td>0</td>\n",
       "    </tr>\n",
       "    <tr>\n",
       "      <th>4</th>\n",
       "      <td>2006-12-07</td>\n",
       "      <td>1004827600</td>\n",
       "      <td>-0.6712</td>\n",
       "      <td>0</td>\n",
       "    </tr>\n",
       "  </tbody>\n",
       "</table>\n",
       "</div>"
      ],
      "text/plain": [
       "         Date      Volume  compound  Change\n",
       "0  2006-12-01   795079600    0.7707       0\n",
       "1  2006-12-04   709536800    0.8720       0\n",
       "2  2006-12-05   662838400    0.0000       1\n",
       "3  2006-12-06   638184400    0.6858       0\n",
       "4  2006-12-07  1004827600   -0.6712       0"
      ]
     },
     "execution_count": 95,
     "metadata": {},
     "output_type": "execute_result"
    }
   ],
   "source": [
    "aapl_data.head()"
   ]
  },
  {
   "cell_type": "markdown",
   "metadata": {},
   "source": [
    "Due to the variability of stock prices and their relevant trends we will also test the idea of using a sort of short term memory where only the past year, 6 months, 3 months, and 1 month are used to predict the next outcome using a sliding window and walk-forward validation."
   ]
  },
  {
   "cell_type": "code",
   "execution_count": 202,
   "metadata": {},
   "outputs": [],
   "source": [
    "def NaiveBayes(data, window):\n",
    "    preds = []\n",
    "    targets = []\n",
    "    \n",
    "    windowed_data = []\n",
    "    for i in range(0, len(data) - window - 1):\n",
    "        sample = {'data': data.loc[i: i+window], 'target': data.loc[i+window+1]}\n",
    "        windowed_data.append(sample)\n",
    "    \n",
    "    for data in windowed_data:\n",
    "        posteriors = []\n",
    "        Y_vals = [0, 1]\n",
    "        for change in Y_vals:\n",
    "            pr_change = sum(data['data']['Change'] == change) / len(data['data']['Change'])\n",
    "            \n",
    "            vol = data['data'][data['data']['Change'] == change]['Volume']\n",
    "            mean_vol = np.mean(vol)\n",
    "            var_vol = np.var(vol)\n",
    "            exponent = (-((data['target']['Volume'] - mean_vol) ** 2) / (2 * var_vol))\n",
    "            vol_likelihood = (1 / (np.sqrt(2 * np.pi * var_vol))) * np.exp(exponent)\n",
    "            \n",
    "            sent = data['data'][data['data']['Change'] == change]['compound']\n",
    "            mean_sent = np.mean(sent)\n",
    "            var_sent = np.var(sent)\n",
    "            exponent = (-((data['target']['compound'] - mean_sent) ** 2) / (2 * var_sent))\n",
    "            sent_likelihood = (1 / (np.sqrt(2 * np.pi * var_sent))) * np.exp(exponent)\n",
    "            \n",
    "            posteriors.append(vol_likelihood * sent_likelihood * pr_change)\n",
    "        preds.append(np.argmax(posteriors))\n",
    "        targets.append(data['target']['Change'])\n",
    "    return preds, targets"
   ]
  },
  {
   "cell_type": "code",
   "execution_count": 242,
   "metadata": {},
   "outputs": [],
   "source": [
    "X = aapl_data[['Volume', 'compound']].values\n",
    "\n",
    "one_month = 21\n",
    "three_months = 63\n",
    "six_months = 126\n",
    "one_year = 252\n",
    "\n",
    "one_month_preds, one_month_targets = NaiveBayes(aapl_data, one_month)\n",
    "three_months_preds, three_months_targets = NaiveBayes(aapl_data, three_months)\n",
    "six_months_preds, six_months_targets = NaiveBayes(aapl_data, six_months)\n",
    "one_year_preds, one_year_targets = NaiveBayes(aapl_data, one_year)"
   ]
  },
  {
   "cell_type": "code",
   "execution_count": 243,
   "metadata": {},
   "outputs": [
    {
     "name": "stdout",
     "output_type": "stream",
     "text": [
      "One Month Accuracy: 0.5118236472945892\n",
      "Three Months Accuracy: 0.5205870362821036\n",
      "Six Months Accuracy: 0.5280334728033472\n",
      "One Year Accuracy: 0.5300353356890459\n"
     ]
    }
   ],
   "source": [
    "accuracy = sum(p == t for p, t in zip(one_month_preds, one_month_targets)) / len(one_month_targets)\n",
    "print(f\"One Month Accuracy: {accuracy}\")\n",
    "accuracy = sum(p == t for p, t in zip(three_months_preds, three_months_targets)) / len(three_months_targets)\n",
    "print(f\"Three Months Accuracy: {accuracy}\")\n",
    "accuracy = sum(p == t for p, t in zip(six_months_preds, six_months_targets)) / len(six_months_targets)\n",
    "print(f\"Six Months Accuracy: {accuracy}\")\n",
    "accuracy = sum(p == t for p, t in zip(one_year_preds, one_year_targets)) / len(one_year_targets)\n",
    "print(f\"One Year Accuracy: {accuracy}\")"
   ]
  },
  {
   "cell_type": "code",
   "execution_count": 244,
   "metadata": {},
   "outputs": [
    {
     "name": "stdout",
     "output_type": "stream",
     "text": [
      "One Month Precision: 0.5330960854092527\n",
      "Three Months Precision: 0.5373134328358209\n",
      "Six Months Precision: 0.5363528009535161\n",
      "One Year Precision: 0.5331088664421998\n"
     ]
    }
   ],
   "source": [
    "true_positives = sum(p == t == 1 for p, t in zip(one_month_preds, one_month_targets))\n",
    "predicted_positives = sum(p == 1 for p in one_month_preds)\n",
    "precision = true_positives / predicted_positives\n",
    "print(f\"One Month Precision: {precision}\")\n",
    "\n",
    "true_positives = sum(p == t == 1 for p, t in zip(three_months_preds, three_months_targets))\n",
    "predicted_positives = sum(p == 1 for p in three_months_preds)\n",
    "precision = true_positives / predicted_positives\n",
    "print(f\"Three Months Precision: {precision}\")\n",
    "\n",
    "true_positives = sum(p == t == 1 for p, t in zip(six_months_preds, six_months_targets))\n",
    "predicted_positives = sum(p == 1 for p in six_months_preds)\n",
    "precision = true_positives / predicted_positives\n",
    "print(f\"Six Months Precision: {precision}\")\n",
    "\n",
    "true_positives = sum(p == t == 1 for p, t in zip(one_year_preds, one_year_targets))\n",
    "predicted_positives = sum(p == 1 for p in one_year_preds)\n",
    "precision = true_positives / predicted_positives\n",
    "print(f\"One Year Precision: {precision}\")"
   ]
  },
  {
   "cell_type": "code",
   "execution_count": 245,
   "metadata": {},
   "outputs": [
    {
     "name": "stdout",
     "output_type": "stream",
     "text": [
      "First 20 results from oure most precise model:\n",
      "Prediction: 0, Target: 1\n",
      "Prediction: 0, Target: 0\n",
      "Prediction: 1, Target: 1\n",
      "Prediction: 0, Target: 0\n",
      "Prediction: 0, Target: 1\n",
      "Prediction: 0, Target: 0\n",
      "Prediction: 0, Target: 1\n",
      "Prediction: 1, Target: 1\n",
      "Prediction: 0, Target: 1\n",
      "Prediction: 0, Target: 1\n",
      "Prediction: 1, Target: 1\n",
      "Prediction: 0, Target: 0\n",
      "Prediction: 0, Target: 1\n",
      "Prediction: 1, Target: 0\n",
      "Prediction: 0, Target: 0\n",
      "Prediction: 0, Target: 1\n",
      "Prediction: 0, Target: 0\n",
      "Prediction: 0, Target: 1\n",
      "Prediction: 1, Target: 1\n",
      "Prediction: 0, Target: 0\n"
     ]
    }
   ],
   "source": [
    "print('First 20 results from oure most precise model:')\n",
    "for p, t in itertools.islice(zip(three_months_preds, three_months_targets), 20):\n",
    "    print(f\"Prediction: {p}, Target: {t}\")"
   ]
  },
  {
   "cell_type": "markdown",
   "metadata": {},
   "source": [
    "There are some drawbacks of this due to this models simplicity which can be seen in the accuracy and precision only being slightly greater than a coin flip for our best models. We are assuming that the sentiment given the stock change and trading volume given the stock change are independent, hence the name naive bayes, which likely is not the case. With this in mind we will look at some more complex models that may help overcome this drawback such as MCMC where we can use these correlated and non-identically distributed samples in the form of markov chains and still have the Law of Large Numbers and Central Limit Theorem hold."
   ]
  },
  {
   "cell_type": "markdown",
   "metadata": {},
   "source": [
    "DO ONE WITH BAYESIAN LOGISTIC REGRESSION AND MCMC"
   ]
  },
  {
   "cell_type": "markdown",
   "metadata": {},
   "source": [
    "DO ONE WITH BAYESIAN NEURAL NETWORK"
   ]
  },
  {
   "cell_type": "markdown",
   "metadata": {},
   "source": [
    "ONE WITH LSTM (MENTION HOW THIS IS TYPICALLY GOOD FOR PREDICTING STOCK PRICING BUT WHAT IF WE USE IT TO PREDICT STOCK PRICE CHANGES)"
   ]
  }
 ],
 "metadata": {
  "kernelspec": {
   "display_name": "base",
   "language": "python",
   "name": "python3"
  },
  "language_info": {
   "codemirror_mode": {
    "name": "ipython",
    "version": 3
   },
   "file_extension": ".py",
   "mimetype": "text/x-python",
   "name": "python",
   "nbconvert_exporter": "python",
   "pygments_lexer": "ipython3",
   "version": "3.11.3"
  }
 },
 "nbformat": 4,
 "nbformat_minor": 2
}
